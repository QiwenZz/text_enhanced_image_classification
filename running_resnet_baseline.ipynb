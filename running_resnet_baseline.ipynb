{
  "nbformat": 4,
  "nbformat_minor": 0,
  "metadata": {
    "colab": {
      "provenance": [],
      "gpuType": "V100"
    },
    "kernelspec": {
      "name": "python3",
      "display_name": "Python 3"
    },
    "language_info": {
      "name": "python"
    },
    "accelerator": "GPU"
  },
  "cells": [
    {
      "cell_type": "code",
      "execution_count": null,
      "metadata": {
        "id": "B771CsRgiz33"
      },
      "outputs": [],
      "source": [
        "import argparse\n",
        "import torch\n",
        "import torchvision\n",
        "import torchvision.transforms as transforms\n",
        "import torchvision.models as models\n",
        "import torch.optim as optim\n",
        "import torch.nn as nn\n",
        "import time\n",
        "from tqdm import tqdm"
      ]
    },
    {
      "cell_type": "code",
      "source": [
        "def load_data(batch_size):\n",
        "    transform = transforms.Compose([\n",
        "        transforms.Resize(224),\n",
        "        transforms.ToTensor(),\n",
        "        transforms.Normalize(mean=[0.485, 0.456, 0.406], std=[0.229, 0.224, 0.225])\n",
        "    ])\n",
        "\n",
        "    trainset = torchvision.datasets.CIFAR10(root='./data', train=True, download=True, transform=transform)\n",
        "    trainloader = torch.utils.data.DataLoader(trainset, batch_size=batch_size, shuffle=True)\n",
        "\n",
        "    testset = torchvision.datasets.CIFAR10(root='./data', train=False, download=True, transform=transform)\n",
        "    testloader = torch.utils.data.DataLoader(testset, batch_size=batch_size, shuffle=False)\n",
        "\n",
        "    return trainloader, testloader\n",
        "\n",
        "def modify_resnet50():\n",
        "    resnet50 = models.resnet50(pretrained=True)\n",
        "    for idx, p in enumerate(resnet50.parameters()):\n",
        "      if idx == len(list(resnet50.parameters())) - 2:\n",
        "          p.requires_grad = True\n",
        "      else:\n",
        "          p.requires_grad = False\n",
        "    num_ftrs = resnet50.fc.in_features\n",
        "    resnet50.fc = torch.nn.Linear(num_ftrs, 10)\n",
        "    for param in resnet50.fc.parameters():\n",
        "        param.requires_grad = True\n",
        "    return resnet50\n",
        "\n",
        "def train_model(model, trainloader, criterion, optimizer, num_epochs):\n",
        "    device = torch.device(\"cuda:0\" if torch.cuda.is_available() else \"cpu\")\n",
        "    model = model.to(device)\n",
        "\n",
        "    start_time = time.time()\n",
        "    for epoch in range(num_epochs):\n",
        "      model.train()\n",
        "      running_loss = 0.0\n",
        "\n",
        "      # Create a progress bar\n",
        "      pbar = tqdm(enumerate(trainloader), total=len(trainloader))\n",
        "\n",
        "      for batch_idx, (inputs, labels) in pbar:\n",
        "          inputs, labels = inputs.to(device), labels.to(device)\n",
        "          optimizer.zero_grad()\n",
        "          outputs = model(inputs)\n",
        "          loss = criterion(outputs, labels)\n",
        "          loss.backward()\n",
        "          optimizer.step()\n",
        "          running_loss += loss.item()\n",
        "\n",
        "          # Update the progress bar\n",
        "          pbar.set_description(f'Epoch [{epoch + 1}/{num_epochs}] - Loss: {running_loss / (batch_idx + 1):.4f}')\n",
        "      end_time = time.time()\n",
        "      print(f\"Epoch {epoch+1}/{num_epochs}, Loss: {running_loss / len(trainloader)}, Time: {end_time - start_time} seconds\")\n",
        "\n",
        "\n",
        "\n",
        "def evaluate_model(model, testloader):\n",
        "    correct = 0\n",
        "    total = 0\n",
        "    device = torch.device(\"cuda:0\" if torch.cuda.is_available() else \"cpu\")\n",
        "    model.eval()\n",
        "    with torch.no_grad():\n",
        "        for data in testloader:\n",
        "            images, labels = data\n",
        "            images, labels = images.to(device), labels.to(device)\n",
        "            outputs = model(images)\n",
        "            _, predicted = torch.max(outputs.data, 1)\n",
        "            total += labels.size(0)\n",
        "            correct += (predicted == labels).sum().item()\n",
        "\n",
        "    print(correct /total)\n",
        "\n",
        "    print(f'Accuracy of the network on the 10000 test images: {100 * correct // total} %')\n",
        "\n",
        "def main():\n",
        "    parser = argparse.ArgumentParser(description='Fine-tune ResNet-50 on CIFAR-10')\n",
        "    parser.add_argument('--batch_size', type=int, default=32, help='input batch size for training (default: 32)')\n",
        "    parser.add_argument('--epochs', type=int, default=5, help='number of epochs to train (default: 5)')\n",
        "    parser.add_argument('--lr', type=float, default=0.001, help='learning rate (default: 0.001)')\n",
        "    args = parser.parse_args()\n",
        "\n",
        "    trainloader, testloader = load_data(args.batch_size)\n",
        "    resnet50 = modify_resnet50()\n",
        "    criterion = nn.CrossEntropyLoss()\n",
        "    optimizer = optim.SGD(resnet50.parameters(), lr=args.lr, momentum=0.9)\n",
        "\n",
        "    train_model(resnet50, trainloader, criterion, optimizer, args.epochs)\n",
        "    evaluate_model(resnet50, testloader)\n",
        "\n"
      ],
      "metadata": {
        "id": "DU4VdqIDi2IC"
      },
      "execution_count": null,
      "outputs": []
    },
    {
      "cell_type": "code",
      "source": [
        "# Define argparse-like arguments for Jupyter Notebook cell\n",
        "batch_size = 32\n",
        "epochs = 10\n",
        "lr = 0.001\n",
        "\n",
        "trainloader, testloader = load_data(batch_size)\n",
        "resnet50 = modify_resnet50()\n",
        "criterion = nn.CrossEntropyLoss()\n",
        "optimizer = optim.SGD(resnet50.parameters(), lr=lr, momentum=0.9)\n",
        "\n",
        "train_model(resnet50, trainloader, criterion, optimizer, epochs)\n",
        "evaluate_model(resnet50, testloader)"
      ],
      "metadata": {
        "colab": {
          "base_uri": "https://localhost:8080/"
        },
        "id": "NLnKyiJKi_jQ",
        "outputId": "6731ae16-b8dd-40f5-accb-d617a323f208"
      },
      "execution_count": null,
      "outputs": [
        {
          "output_type": "stream",
          "name": "stdout",
          "text": [
            "Files already downloaded and verified\n",
            "Files already downloaded and verified\n"
          ]
        },
        {
          "output_type": "stream",
          "name": "stderr",
          "text": [
            "Epoch [1/10] - Loss: 0.8637: 100%|██████████| 1563/1563 [02:27<00:00, 10.60it/s]\n"
          ]
        },
        {
          "output_type": "stream",
          "name": "stdout",
          "text": [
            "Epoch 1/10, Loss: 0.8637331230512278, Time: 147.40082120895386 seconds\n"
          ]
        },
        {
          "output_type": "stream",
          "name": "stderr",
          "text": [
            "Epoch [2/10] - Loss: 0.6473: 100%|██████████| 1563/1563 [02:26<00:00, 10.68it/s]\n"
          ]
        },
        {
          "output_type": "stream",
          "name": "stdout",
          "text": [
            "Epoch 2/10, Loss: 0.6473155628010316, Time: 293.78012251853943 seconds\n"
          ]
        },
        {
          "output_type": "stream",
          "name": "stderr",
          "text": [
            "Epoch [3/10] - Loss: 0.6099: 100%|██████████| 1563/1563 [02:27<00:00, 10.57it/s]\n"
          ]
        },
        {
          "output_type": "stream",
          "name": "stdout",
          "text": [
            "Epoch 3/10, Loss: 0.6099471946843373, Time: 441.7081437110901 seconds\n"
          ]
        },
        {
          "output_type": "stream",
          "name": "stderr",
          "text": [
            "Epoch [4/10] - Loss: 0.5907: 100%|██████████| 1563/1563 [02:26<00:00, 10.67it/s]\n"
          ]
        },
        {
          "output_type": "stream",
          "name": "stdout",
          "text": [
            "Epoch 4/10, Loss: 0.5906538623537074, Time: 588.1396687030792 seconds\n"
          ]
        },
        {
          "output_type": "stream",
          "name": "stderr",
          "text": [
            "Epoch [5/10] - Loss: 0.5800: 100%|██████████| 1563/1563 [02:27<00:00, 10.63it/s]\n"
          ]
        },
        {
          "output_type": "stream",
          "name": "stdout",
          "text": [
            "Epoch 5/10, Loss: 0.5800197400290922, Time: 735.1776878833771 seconds\n"
          ]
        },
        {
          "output_type": "stream",
          "name": "stderr",
          "text": [
            "Epoch [6/10] - Loss: 0.5643: 100%|██████████| 1563/1563 [02:28<00:00, 10.55it/s]\n"
          ]
        },
        {
          "output_type": "stream",
          "name": "stdout",
          "text": [
            "Epoch 6/10, Loss: 0.5642732564295551, Time: 883.3346328735352 seconds\n"
          ]
        },
        {
          "output_type": "stream",
          "name": "stderr",
          "text": [
            "Epoch [7/10] - Loss: 0.5599: 100%|██████████| 1563/1563 [02:26<00:00, 10.68it/s]\n"
          ]
        },
        {
          "output_type": "stream",
          "name": "stdout",
          "text": [
            "Epoch 7/10, Loss: 0.5599104827478462, Time: 1029.668349981308 seconds\n"
          ]
        },
        {
          "output_type": "stream",
          "name": "stderr",
          "text": [
            "Epoch [8/10] - Loss: 0.5552: 100%|██████████| 1563/1563 [02:26<00:00, 10.66it/s]\n"
          ]
        },
        {
          "output_type": "stream",
          "name": "stdout",
          "text": [
            "Epoch 8/10, Loss: 0.5551910062230556, Time: 1176.2514276504517 seconds\n"
          ]
        },
        {
          "output_type": "stream",
          "name": "stderr",
          "text": [
            "Epoch [9/10] - Loss: 0.5500: 100%|██████████| 1563/1563 [02:26<00:00, 10.68it/s]\n"
          ]
        },
        {
          "output_type": "stream",
          "name": "stdout",
          "text": [
            "Epoch 9/10, Loss: 0.5500141528559586, Time: 1322.5582876205444 seconds\n"
          ]
        },
        {
          "output_type": "stream",
          "name": "stderr",
          "text": [
            "Epoch [10/10] - Loss: 0.5403: 100%|██████████| 1563/1563 [02:26<00:00, 10.67it/s]\n"
          ]
        },
        {
          "output_type": "stream",
          "name": "stdout",
          "text": [
            "Epoch 10/10, Loss: 0.5402739241538106, Time: 1468.9861254692078 seconds\n",
            "0.8126\n",
            "Accuracy of the network on the 10000 test images: 81 %\n"
          ]
        }
      ]
    }
  ]
}